{
 "cells": [
  {
   "cell_type": "code",
   "execution_count": 10,
   "id": "19af90bc-e962-488d-bc1f-e565b440d5b1",
   "metadata": {},
   "outputs": [],
   "source": [
    "import numpy as np\n",
    "import pandas as pd"
   ]
  },
  {
   "cell_type": "code",
   "execution_count": 11,
   "id": "04cd5548-a938-43f2-b89f-025fcf8e88b4",
   "metadata": {},
   "outputs": [],
   "source": [
    "data = 'https://raw.githubusercontent.com/alexeygrigorev/datasets/master/car_fuel_efficiency.csv'"
   ]
  },
  {
   "cell_type": "code",
   "execution_count": 12,
   "id": "4a53270f-6abd-4176-8877-540913d9dca5",
   "metadata": {
    "scrolled": true
   },
   "outputs": [
    {
     "name": "stdout",
     "output_type": "stream",
     "text": [
      "  % Total    % Received % Xferd  Average Speed   Time    Time     Time  Current\n",
      "                                 Dload  Upload   Total   Spent    Left  Speed\n",
      "100  853k  100  853k    0     0   940k      0 --:--:-- --:--:-- --:--:--  940k\n"
     ]
    }
   ],
   "source": [
    "!curl $data > data.csv"
   ]
  },
  {
   "cell_type": "markdown",
   "id": "82e9f6b4-998f-4c55-817d-44c99144e6b0",
   "metadata": {},
   "source": [
    "# data preparation"
   ]
  },
  {
   "cell_type": "code",
   "execution_count": 13,
   "id": "222de975-e712-4a7c-a812-e736079f3c96",
   "metadata": {},
   "outputs": [],
   "source": [
    "df = pd.read_csv('data.csv')"
   ]
  },
  {
   "cell_type": "code",
   "execution_count": 14,
   "id": "624f8cfe-91c6-4db8-ae49-96d19606b004",
   "metadata": {},
   "outputs": [],
   "source": [
    "df = df[['engine_displacement','horsepower','vehicle_weight','model_year',\n",
    "    'fuel_efficiency_mpg']]"
   ]
  },
  {
   "cell_type": "code",
   "execution_count": 15,
   "id": "14e26b4f-bc3a-42d4-9030-45e74338f528",
   "metadata": {},
   "outputs": [
    {
     "data": {
      "text/html": [
       "<div>\n",
       "<style scoped>\n",
       "    .dataframe tbody tr th:only-of-type {\n",
       "        vertical-align: middle;\n",
       "    }\n",
       "\n",
       "    .dataframe tbody tr th {\n",
       "        vertical-align: top;\n",
       "    }\n",
       "\n",
       "    .dataframe thead th {\n",
       "        text-align: right;\n",
       "    }\n",
       "</style>\n",
       "<table border=\"1\" class=\"dataframe\">\n",
       "  <thead>\n",
       "    <tr style=\"text-align: right;\">\n",
       "      <th></th>\n",
       "      <th>engine_displacement</th>\n",
       "      <th>horsepower</th>\n",
       "      <th>vehicle_weight</th>\n",
       "      <th>model_year</th>\n",
       "      <th>fuel_efficiency_mpg</th>\n",
       "    </tr>\n",
       "  </thead>\n",
       "  <tbody>\n",
       "    <tr>\n",
       "      <th>0</th>\n",
       "      <td>170</td>\n",
       "      <td>159.0</td>\n",
       "      <td>3413.433759</td>\n",
       "      <td>2003</td>\n",
       "      <td>13.231729</td>\n",
       "    </tr>\n",
       "    <tr>\n",
       "      <th>1</th>\n",
       "      <td>130</td>\n",
       "      <td>97.0</td>\n",
       "      <td>3149.664934</td>\n",
       "      <td>2007</td>\n",
       "      <td>13.688217</td>\n",
       "    </tr>\n",
       "    <tr>\n",
       "      <th>2</th>\n",
       "      <td>170</td>\n",
       "      <td>78.0</td>\n",
       "      <td>3079.038997</td>\n",
       "      <td>2018</td>\n",
       "      <td>14.246341</td>\n",
       "    </tr>\n",
       "    <tr>\n",
       "      <th>3</th>\n",
       "      <td>220</td>\n",
       "      <td>NaN</td>\n",
       "      <td>2542.392402</td>\n",
       "      <td>2009</td>\n",
       "      <td>16.912736</td>\n",
       "    </tr>\n",
       "    <tr>\n",
       "      <th>4</th>\n",
       "      <td>210</td>\n",
       "      <td>140.0</td>\n",
       "      <td>3460.870990</td>\n",
       "      <td>2009</td>\n",
       "      <td>12.488369</td>\n",
       "    </tr>\n",
       "  </tbody>\n",
       "</table>\n",
       "</div>"
      ],
      "text/plain": [
       "   engine_displacement  horsepower  vehicle_weight  model_year  \\\n",
       "0                  170       159.0     3413.433759        2003   \n",
       "1                  130        97.0     3149.664934        2007   \n",
       "2                  170        78.0     3079.038997        2018   \n",
       "3                  220         NaN     2542.392402        2009   \n",
       "4                  210       140.0     3460.870990        2009   \n",
       "\n",
       "   fuel_efficiency_mpg  \n",
       "0            13.231729  \n",
       "1            13.688217  \n",
       "2            14.246341  \n",
       "3            16.912736  \n",
       "4            12.488369  "
      ]
     },
     "execution_count": 15,
     "metadata": {},
     "output_type": "execute_result"
    }
   ],
   "source": [
    "df.head()"
   ]
  },
  {
   "cell_type": "markdown",
   "id": "881cda43-5020-4762-a7e1-0786d66bc372",
   "metadata": {},
   "source": [
    "# eda"
   ]
  },
  {
   "cell_type": "code",
   "execution_count": 16,
   "id": "1169b5d8-1764-4f31-a81c-43f87b2d6fad",
   "metadata": {},
   "outputs": [],
   "source": [
    "import matplotlib.pyplot as plt\n",
    "import seaborn as sns\n",
    "%matplotlib inline"
   ]
  },
  {
   "cell_type": "code",
   "execution_count": 17,
   "id": "c9483556-e960-45ff-ae39-e0f44f44c0b4",
   "metadata": {},
   "outputs": [
    {
     "data": {
      "text/plain": [
       "<Axes: xlabel='fuel_efficiency_mpg', ylabel='Count'>"
      ]
     },
     "execution_count": 17,
     "metadata": {},
     "output_type": "execute_result"
    },
    {
     "data": {
      "image/png": "[encoded data removed]",
      "text/plain": [
       "<Figure size 640x480 with 1 Axes>"
      ]
     },
     "metadata": {},
     "output_type": "display_data"
    }
   ],
   "source": [
    "sns.histplot(df.fuel_efficiency_mpg,bins=50)"
   ]
  },
  {
   "cell_type": "code",
   "execution_count": 18,
   "id": "fb6d2441-45a9-4a6a-b045-89654e25abb3",
   "metadata": {},
   "outputs": [
    {
     "data": {
      "text/plain": [
       "engine_displacement      0\n",
       "horsepower             708\n",
       "vehicle_weight           0\n",
       "model_year               0\n",
       "fuel_efficiency_mpg      0\n",
       "dtype: int64"
      ]
     },
     "execution_count": 18,
     "metadata": {},
     "output_type": "execute_result"
    }
   ],
   "source": [
    "df.isnull().sum()"
   ]
  },
  {
   "cell_type": "code",
   "execution_count": 19,
   "id": "581a3c28-d202-4b66-9fdc-faa22cb59e6a",
   "metadata": {},
   "outputs": [
    {
     "data": {
      "text/plain": [
       "np.float64(149.0)"
      ]
     },
     "execution_count": 19,
     "metadata": {},
     "output_type": "execute_result"
    }
   ],
   "source": [
    "df.horsepower.median()"
   ]
  },
  {
   "cell_type": "code",
   "execution_count": 20,
   "id": "837eb6f7-e326-4117-ac11-117eb93d9f67",
   "metadata": {},
   "outputs": [],
   "source": [
    "n = len(df)\n",
    "n_val = int(n * 0.2)\n",
    "n_test = int(n * 0.2)\n",
    "n_train = n - n_val- n_test"
   ]
  },
  {
   "cell_type": "code",
   "execution_count": 21,
   "id": "c4815f4f-a419-4a27-b27e-c164e6d206b5",
   "metadata": {},
   "outputs": [
    {
     "data": {
      "text/plain": [
       "(9704, 1940, 1940, 5824)"
      ]
     },
     "execution_count": 21,
     "metadata": {},
     "output_type": "execute_result"
    }
   ],
   "source": [
    "n, n_val, n_test, n_train"
   ]
  },
  {
   "cell_type": "code",
   "execution_count": 22,
   "id": "fc1a5e90-d70a-4b4a-b635-6665e95460a5",
   "metadata": {},
   "outputs": [
    {
     "data": {
      "text/plain": [
       "array([   0,    1,    2, ..., 9701, 9702, 9703], shape=(9704,))"
      ]
     },
     "execution_count": 22,
     "metadata": {},
     "output_type": "execute_result"
    }
   ],
   "source": [
    "idx = np.arange(n)\n",
    "idx"
   ]
  },
  {
   "cell_type": "code",
   "execution_count": 23,
   "id": "79f5d1a3-2826-4e9a-9644-5c8647fac07c",
   "metadata": {},
   "outputs": [],
   "source": [
    "np.random.seed(42)\n",
    "np.random.shuffle(idx)"
   ]
  },
  {
   "cell_type": "code",
   "execution_count": 24,
   "id": "a37ec37f-5fbd-468e-b94e-5e91507f68b8",
   "metadata": {},
   "outputs": [],
   "source": [
    "df_train = df.iloc[idx[:n_train]]\n",
    "df_val = df.iloc[idx[n_train:n_val+n_train]]\n",
    "df_test = df.iloc[idx[n_val+n_train:]]"
   ]
  },
  {
   "cell_type": "code",
   "execution_count": 25,
   "id": "2eebd40c-75c8-46f7-a9d4-3c7f473552ee",
   "metadata": {},
   "outputs": [],
   "source": [
    "# filling with zero the missing values\n",
    "df_train_zero = df_train.fillna(0)"
   ]
  },
  {
   "cell_type": "code",
   "execution_count": 26,
   "id": "9afea93d-0556-48b5-9850-ed897e9cfb75",
   "metadata": {},
   "outputs": [],
   "source": [
    "# filling with mean the missing values\n",
    "df_train_mean = df_train.fillna(df_train.horsepower.mean())"
   ]
  },
  {
   "cell_type": "code",
   "execution_count": 27,
   "id": "af7272e9-d5ba-442f-914c-a76100afb1c6",
   "metadata": {},
   "outputs": [],
   "source": [
    "y_train = df_train.fuel_efficiency_mpg.values\n",
    "y_val = df_val.fuel_efficiency_mpg.values\n",
    "y_test = df_test.fuel_efficiency_mpg.values"
   ]
  },
  {
   "cell_type": "code",
   "execution_count": 28,
   "id": "201e86de-aa8f-4fe1-aa67-b97fe919e9e8",
   "metadata": {},
   "outputs": [],
   "source": [
    "del df_train['fuel_efficiency_mpg']\n",
    "del df_train_zero['fuel_efficiency_mpg']\n",
    "del df_train_mean['fuel_efficiency_mpg']\n",
    "del df_test['fuel_efficiency_mpg']\n",
    "del df_val['fuel_efficiency_mpg']"
   ]
  },
  {
   "cell_type": "markdown",
   "id": "794f1ce8-6323-452a-8f9d-d92f4d74841e",
   "metadata": {},
   "source": [
    "# linear regression"
   ]
  },
  {
   "cell_type": "code",
   "execution_count": 29,
   "id": "8bac5bff-c507-41ae-8b6c-11376f751cfb",
   "metadata": {},
   "outputs": [],
   "source": [
    "def train_linear_regression(X,y):\n",
    "    ones = np.ones(X.shape[0])\n",
    "    X = np.column_stack([ones, X])\n",
    "\n",
    "    XTX = X.T.dot(X)\n",
    "    XTX_inv = np.linalg.inv(XTX)\n",
    "    w_full = XTX_inv.dot(X.T).dot(y)\n",
    "\n",
    "    return w_full[0], w_full[1:]"
   ]
  },
  {
   "cell_type": "code",
   "execution_count": 30,
   "id": "2e657dc4-d13a-4c08-8904-de7670ec6298",
   "metadata": {},
   "outputs": [],
   "source": [
    "def prepare_X_z(df):\n",
    "    df = df.fillna(0)\n",
    "    X = df.values\n",
    "    return X"
   ]
  },
  {
   "cell_type": "code",
   "execution_count": 31,
   "id": "2bbdd9d9-4139-4b66-bc94-dc87b7d3bf55",
   "metadata": {},
   "outputs": [],
   "source": [
    "def prepare_X_mean(df):\n",
    "    df = df.fillna(df.horsepower.mean())\n",
    "    X = df.values\n",
    "    return X"
   ]
  },
  {
   "cell_type": "code",
   "execution_count": 32,
   "id": "c9fecac2-c6c7-42f2-9c25-2561418acee3",
   "metadata": {},
   "outputs": [],
   "source": [
    "def rmse(y, y_pred):\n",
    "    error = y - y_pred\n",
    "    se = error ** 2\n",
    "    mse = se.mean()\n",
    "    return np.sqrt(mse)"
   ]
  },
  {
   "cell_type": "code",
   "execution_count": 33,
   "id": "b6d29fcb-ebd1-46d5-a429-8d1f032df670",
   "metadata": {},
   "outputs": [
    {
     "data": {
      "text/plain": [
       "np.float64(0.5173782638844466)"
      ]
     },
     "execution_count": 33,
     "metadata": {},
     "output_type": "execute_result"
    }
   ],
   "source": [
    "# trian with X_trian_0 first \n",
    "X_train_zero = prepare_X_z(df_train)\n",
    "w0 ,w = train_linear_regression(X_train_zero, y_train)\n",
    "\n",
    "X_val_zero = prepare_X_z(df_val)\n",
    "y_pred_zero = w0 + X_val_zero.dot(w)\n",
    "\n",
    "rmse(y_val, y_pred_zero)"
   ]
  },
  {
   "cell_type": "code",
   "execution_count": 34,
   "id": "b9e6262c-0d0d-495a-bcdd-408f04d9691f",
   "metadata": {},
   "outputs": [
    {
     "data": {
      "text/plain": [
       "np.float64(0.4636236995020941)"
      ]
     },
     "execution_count": 34,
     "metadata": {},
     "output_type": "execute_result"
    }
   ],
   "source": [
    "# now train with mean for miising values\n",
    "X_train_mean = prepare_X_mean(df_train)\n",
    "w0 ,w = train_linear_regression(X_train_mean, y_train)\n",
    "\n",
    "X_val_mean = prepare_X_mean(df_val)\n",
    "y_pred_mean = w0 + X_val_mean.dot(w)\n",
    "\n",
    "rmse(y_val, y_pred_mean)\n"
   ]
  },
  {
   "cell_type": "code",
   "execution_count": 35,
   "id": "fedcf9a3-80a2-4f75-9c80-40e1d9c5f2c3",
   "metadata": {},
   "outputs": [
    {
     "data": {
      "text/plain": [
       "{'engine_displacement': 160.0,\n",
       " 'horsepower': 125.0,\n",
       " 'vehicle_weight': 3317.04204639791,\n",
       " 'model_year': 2018.0}"
      ]
     },
     "execution_count": 35,
     "metadata": {},
     "output_type": "execute_result"
    }
   ],
   "source": [
    "car = df_test.iloc[20].to_dict()\n",
    "car"
   ]
  },
  {
   "cell_type": "code",
   "execution_count": 36,
   "id": "03ca182a-1c50-4903-ba55-aa4d2e642837",
   "metadata": {},
   "outputs": [
    {
     "data": {
      "text/html": [
       "<div>\n",
       "<style scoped>\n",
       "    .dataframe tbody tr th:only-of-type {\n",
       "        vertical-align: middle;\n",
       "    }\n",
       "\n",
       "    .dataframe tbody tr th {\n",
       "        vertical-align: top;\n",
       "    }\n",
       "\n",
       "    .dataframe thead th {\n",
       "        text-align: right;\n",
       "    }\n",
       "</style>\n",
       "<table border=\"1\" class=\"dataframe\">\n",
       "  <thead>\n",
       "    <tr style=\"text-align: right;\">\n",
       "      <th></th>\n",
       "      <th>engine_displacement</th>\n",
       "      <th>horsepower</th>\n",
       "      <th>vehicle_weight</th>\n",
       "      <th>model_year</th>\n",
       "    </tr>\n",
       "  </thead>\n",
       "  <tbody>\n",
       "    <tr>\n",
       "      <th>0</th>\n",
       "      <td>160.0</td>\n",
       "      <td>125.0</td>\n",
       "      <td>3317.042046</td>\n",
       "      <td>2018.0</td>\n",
       "    </tr>\n",
       "  </tbody>\n",
       "</table>\n",
       "</div>"
      ],
      "text/plain": [
       "   engine_displacement  horsepower  vehicle_weight  model_year\n",
       "0                160.0       125.0     3317.042046      2018.0"
      ]
     },
     "execution_count": 36,
     "metadata": {},
     "output_type": "execute_result"
    }
   ],
   "source": [
    "df_small = pd.DataFrame([car])\n",
    "df_small"
   ]
  },
  {
   "cell_type": "code",
   "execution_count": 37,
   "id": "d4ff84d3-260d-4247-8ff9-107e8347051b",
   "metadata": {},
   "outputs": [],
   "source": [
    "X_small_z = prepare_X_z(df_small)"
   ]
  },
  {
   "cell_type": "code",
   "execution_count": 38,
   "id": "730bbc0a-b9ab-454b-a784-e0c41ae58356",
   "metadata": {},
   "outputs": [
    {
     "data": {
      "text/plain": [
       "array([13.14032855])"
      ]
     },
     "execution_count": 38,
     "metadata": {},
     "output_type": "execute_result"
    }
   ],
   "source": [
    "y_pred_z = w0 + X_small_z.dot(w)\n",
    "y_pred_z"
   ]
  },
  {
   "cell_type": "code",
   "execution_count": 39,
   "id": "2f7d9f06-cb49-4044-885d-db1daf442919",
   "metadata": {},
   "outputs": [],
   "source": [
    "X_small_m = prepare_X_mean(df_small)"
   ]
  },
  {
   "cell_type": "code",
   "execution_count": 40,
   "id": "fad13944-a979-4ecd-8445-f2f67dad85bb",
   "metadata": {},
   "outputs": [
    {
     "data": {
      "text/plain": [
       "array([13.14032855])"
      ]
     },
     "execution_count": 40,
     "metadata": {},
     "output_type": "execute_result"
    }
   ],
   "source": [
    "y_pred_m = w0 + X_small_m.dot(w)\n",
    "y_pred_m"
   ]
  },
  {
   "cell_type": "code",
   "execution_count": 41,
   "id": "bea55c2d-89b6-4d3b-9c0a-8664e482bfab",
   "metadata": {},
   "outputs": [],
   "source": [
    "test = y_test[20]"
   ]
  },
  {
   "cell_type": "code",
   "execution_count": 42,
   "id": "6eeaf842-b9df-40eb-9150-2e6e39652ce6",
   "metadata": {},
   "outputs": [],
   "source": [
    "pred = y_pred_m"
   ]
  },
  {
   "cell_type": "code",
   "execution_count": 43,
   "id": "817ccbf1-a016-43df-9340-7a7cd4c2f20d",
   "metadata": {},
   "outputs": [
    {
     "name": "stdout",
     "output_type": "stream",
     "text": [
      "rmse\n",
      "[0.60105928]\n"
     ]
    }
   ],
   "source": [
    "print(\"rmse\") \n",
    "print(abs(test-pred)**0.5)"
   ]
  },
  {
   "cell_type": "markdown",
   "id": "8b29cebd-ebc1-412d-a41b-3ab64ab29904",
   "metadata": {},
   "source": [
    "# regularization"
   ]
  },
  {
   "cell_type": "code",
   "execution_count": 44,
   "id": "f1cb5403-9483-4f96-8c17-cac3c44bf737",
   "metadata": {},
   "outputs": [],
   "source": [
    "def train_linear_regression_reg(X,y,r=0.001):\n",
    "    ones = np.ones(X.shape[0])\n",
    "    X = np.column_stack([ones, X])\n",
    "\n",
    "    XTX = X.T.dot(X)\n",
    "    XTX = XTX + r * np.eye(XTX.shape[0])\n",
    "    \n",
    "    XTX_inv = np.linalg.inv(XTX)\n",
    "    w_full = XTX_inv.dot(X.T).dot(y)\n",
    "\n",
    "    return w_full[0], w_full[1:]"
   ]
  },
  {
   "cell_type": "code",
   "execution_count": 45,
   "id": "6fc04783-cbf3-4c5d-b8a1-5a77e16ad149",
   "metadata": {},
   "outputs": [
    {
     "data": {
      "text/plain": [
       "np.float64(0.5171115525769823)"
      ]
     },
     "execution_count": 45,
     "metadata": {},
     "output_type": "execute_result"
    }
   ],
   "source": [
    "X_train = prepare_X_z(df_train)\n",
    "w0 ,w = train_linear_regression_reg(X_train, y_train, r = 0.01)\n",
    "\n",
    "X_val = prepare_X_z(df_val)\n",
    "y_pred = w0 + X_val.dot(w)\n",
    "rmse(y_val, y_pred)"
   ]
  },
  {
   "cell_type": "code",
   "execution_count": 46,
   "id": "ae6f08f0-19a0-422b-850f-420a31c7581f",
   "metadata": {},
   "outputs": [
    {
     "name": "stdout",
     "output_type": "stream",
     "text": [
      "0 28.82736547365895 0.5174\n",
      "0.01 24.92683841981215 0.5171\n",
      "0.1 11.239661084581073 0.5188\n",
      "1 1.7315979411219746 0.5222\n",
      "5 0.3638075020482907 0.5229\n",
      "10 0.18306246621686947 0.523\n",
      "100 0.01841801730688404 0.5231\n"
     ]
    }
   ],
   "source": [
    "for r in [0, 0.01, 0.1, 1, 5, 10, 100]:\n",
    "    X_train = prepare_X_z(df_train)\n",
    "    w0 ,w = train_linear_regression_reg(X_train, y_train, r = r)\n",
    "\n",
    "    X_val = prepare_X_z(df_val)\n",
    "    y_pred = w0 + X_val.dot(w)\n",
    "    score = rmse(y_val, y_pred)\n",
    "    print(r,w0, round(score,4))"
   ]
  },
  {
   "cell_type": "code",
   "execution_count": null,
   "id": "b93d484a-0e31-49cc-b338-4fe899a8c54d",
   "metadata": {},
   "outputs": [],
   "source": [
    "seeds = list(range(10))\n",
    "scores =  []\n",
    "n = len(df)\n",
    "X = df\n",
    "y = df.fuel_efficiency_mpg\n",
    "\n",
    "del X['fuel_efficiency_mpg']"
   ]
  },
  {
   "cell_type": "code",
   "execution_count": 61,
   "id": "df5870ee-dcd7-4707-91a4-bbbfae021611",
   "metadata": {},
   "outputs": [
    {
     "name": "stdout",
     "output_type": "stream",
     "text": [
      "0.5206531296294218\n",
      "0.521338891285577\n",
      "0.5228069974803171\n",
      "0.515951674119676\n",
      "0.5109129460053851\n",
      "0.52834064601107\n",
      "0.5313910658146311\n",
      "0.5090670387381733\n",
      "0.5147399129511132\n",
      "0.5131865908224594\n"
     ]
    }
   ],
   "source": [
    "for seed in seeds:\n",
    "    np.random.seed(seed)\n",
    "\n",
    "    idx = np.arange(n)\n",
    "    np.random.shuffle(idx)\n",
    "\n",
    "    n_val = int(n * 0.2)\n",
    "    n_test = int(n * 0.2)\n",
    "    n_train = n - n_val- n_test\n",
    "    \n",
    "    train_idx = idx[:n_train]\n",
    "    val_idx = idx[n_train:n_train + n_val]\n",
    "    test_idx = idx[n_train + n_val:]\n",
    "\n",
    "    X_train, y_train = X.iloc[train_idx], y.iloc[train_idx]\n",
    "    X_val, y_val = X.loc[val_idx], y.iloc[val_idx]\n",
    "    X_test, y_test = X.iloc[test_idx], y.iloc[test_idx]\n",
    "\n",
    "    X_train = X_train.fillna(0)\n",
    "    X_test = X_test.fillna(0)\n",
    "    X_val = X_val.fillna(0)\n",
    "    \n",
    "    w0 , w = train_linear_regression(X_train, y_train)\n",
    "    \n",
    "    y_pred = w0 + X_val.dot(w)\n",
    "    # print(y_pred)\n",
    "    print(rmse(y_val, y_pred))\n",
    "    score = rmse(y_val, y_pred)\n",
    "    scores.append(score)\n",
    "\n",
    "    "
   ]
  },
  {
   "cell_type": "code",
   "execution_count": 65,
   "id": "aede2ac7-c916-4fc5-95c2-79145ba0d5da",
   "metadata": {},
   "outputs": [
    {
     "data": {
      "text/plain": [
       "np.float64(0.006989446426433706)"
      ]
     },
     "execution_count": 65,
     "metadata": {},
     "output_type": "execute_result"
    }
   ],
   "source": [
    "std = np.std(scores)\n",
    "std"
   ]
  },
  {
   "cell_type": "code",
   "execution_count": 70,
   "id": "84213a9d-30e3-4906-bc87-1a768d5b6fa9",
   "metadata": {},
   "outputs": [],
   "source": [
    "np.random.seed(9)\n",
    "\n",
    "idx = np.arange(n)\n",
    "np.random.shuffle(idx)\n",
    "\n",
    "n_val = int(n * 0.2)\n",
    "n_test = int(n * 0.2)\n",
    "n_train = n - n_val- n_test\n",
    "\n",
    "train_idx = idx[:n_train]\n",
    "val_idx = idx[n_train:n_train + n_val]\n",
    "test_idx = idx[n_train + n_val:]\n",
    "\n",
    "X_train, y_train = X.iloc[train_idx], y.iloc[train_idx]\n",
    "X_val, y_val = X.loc[val_idx], y.iloc[val_idx]\n",
    "X_test, y_test = X.iloc[test_idx], y.iloc[test_idx]\n",
    "\n",
    "X_train = X_train.fillna(0)\n",
    "X_test = X_test.fillna(0)\n",
    "X_val = X_val.fillna(0)"
   ]
  },
  {
   "cell_type": "code",
   "execution_count": 71,
   "id": "c6c379f1-776a-4f26-ba74-172b58e33b9a",
   "metadata": {},
   "outputs": [],
   "source": [
    "X_full_train = pd.concat([X_train, X_val])\n",
    "X_full_train = X_full_train.fillna(0)\n",
    "y_full_train = np.concatenate([y_train, y_val])"
   ]
  },
  {
   "cell_type": "code",
   "execution_count": 81,
   "id": "4f02ba09-20c9-487a-a611-ea51ca4a3341",
   "metadata": {},
   "outputs": [],
   "source": [
    "w0, w = train_linear_regression_reg(X_full_train, y_full_train, r=0.001)"
   ]
  },
  {
   "cell_type": "code",
   "execution_count": 82,
   "id": "23afd2f6-7bef-43c1-8d1f-6612e46252f1",
   "metadata": {},
   "outputs": [
    {
     "data": {
      "text/plain": [
       "np.float64(0.5156261299169602)"
      ]
     },
     "execution_count": 82,
     "metadata": {},
     "output_type": "execute_result"
    }
   ],
   "source": [
    "y_pred = w0 + X_test.dot(w)\n",
    "score = rmse(y_test, y_pred)\n",
    "score"
   ]
  },
  {
   "cell_type": "code",
   "execution_count": 83,
   "id": "ebe4516f-c477-4d46-a9ed-227ac88a2e78",
   "metadata": {},
   "outputs": [
    {
     "data": {
      "text/plain": [
       "{'engine_displacement': 180.0,\n",
       " 'horsepower': 121.0,\n",
       " 'vehicle_weight': 3295.310679583003,\n",
       " 'model_year': 2002.0}"
      ]
     },
     "execution_count": 83,
     "metadata": {},
     "output_type": "execute_result"
    }
   ],
   "source": [
    "car = X_test.iloc[60].to_dict()\n",
    "car"
   ]
  },
  {
   "cell_type": "code",
   "execution_count": 84,
   "id": "40620cf2-7096-437f-b31b-46f61dab8b2a",
   "metadata": {},
   "outputs": [
    {
     "data": {
      "text/html": [
       "<div>\n",
       "<style scoped>\n",
       "    .dataframe tbody tr th:only-of-type {\n",
       "        vertical-align: middle;\n",
       "    }\n",
       "\n",
       "    .dataframe tbody tr th {\n",
       "        vertical-align: top;\n",
       "    }\n",
       "\n",
       "    .dataframe thead th {\n",
       "        text-align: right;\n",
       "    }\n",
       "</style>\n",
       "<table border=\"1\" class=\"dataframe\">\n",
       "  <thead>\n",
       "    <tr style=\"text-align: right;\">\n",
       "      <th></th>\n",
       "      <th>engine_displacement</th>\n",
       "      <th>horsepower</th>\n",
       "      <th>vehicle_weight</th>\n",
       "      <th>model_year</th>\n",
       "    </tr>\n",
       "  </thead>\n",
       "  <tbody>\n",
       "    <tr>\n",
       "      <th>0</th>\n",
       "      <td>180.0</td>\n",
       "      <td>121.0</td>\n",
       "      <td>3295.31068</td>\n",
       "      <td>2002.0</td>\n",
       "    </tr>\n",
       "  </tbody>\n",
       "</table>\n",
       "</div>"
      ],
      "text/plain": [
       "   engine_displacement  horsepower  vehicle_weight  model_year\n",
       "0                180.0       121.0      3295.31068      2002.0"
      ]
     },
     "execution_count": 84,
     "metadata": {},
     "output_type": "execute_result"
    }
   ],
   "source": [
    "X_small = pd.DataFrame([car])\n",
    "X_small"
   ]
  },
  {
   "cell_type": "code",
   "execution_count": 85,
   "id": "ff260edc-d2d3-43fc-8238-303dc5804ee3",
   "metadata": {},
   "outputs": [],
   "source": [
    "X_small = X_small.fillna(0)"
   ]
  },
  {
   "cell_type": "code",
   "execution_count": 86,
   "id": "22002e76-8d72-4993-9a49-7f74ba8d0a8f",
   "metadata": {},
   "outputs": [
    {
     "data": {
      "text/plain": [
       "0    13.433485\n",
       "dtype: float64"
      ]
     },
     "execution_count": 86,
     "metadata": {},
     "output_type": "execute_result"
    }
   ],
   "source": [
    "y_pred = w0 + X_small.dot(w)\n",
    "y_pred"
   ]
  },
  {
   "cell_type": "code",
   "execution_count": 89,
   "id": "db6b2749-9997-4961-88a9-607bfd7f18ce",
   "metadata": {},
   "outputs": [
    {
     "data": {
      "text/plain": [
       "np.float64(13.49995260921676)"
      ]
     },
     "execution_count": 89,
     "metadata": {},
     "output_type": "execute_result"
    }
   ],
   "source": [
    "test = y_test.iloc[60]\n",
    "test"
   ]
  },
  {
   "cell_type": "code",
   "execution_count": 91,
   "id": "f8c8a683-653c-4416-a8ba-e26c32b48bc2",
   "metadata": {},
   "outputs": [
    {
     "data": {
      "text/plain": [
       "0    13.433485\n",
       "dtype: float64"
      ]
     },
     "execution_count": 91,
     "metadata": {},
     "output_type": "execute_result"
    }
   ],
   "source": [
    "pred = y_pred\n",
    "pred"
   ]
  },
  {
   "cell_type": "code",
   "execution_count": 92,
   "id": "9d4f47c9-8426-4310-b93b-068c1e070699",
   "metadata": {},
   "outputs": [
    {
     "name": "stdout",
     "output_type": "stream",
     "text": [
      "rmse :\n"
     ]
    },
    {
     "data": {
      "text/plain": [
       "0    0.257813\n",
       "dtype: float64"
      ]
     },
     "execution_count": 92,
     "metadata": {},
     "output_type": "execute_result"
    }
   ],
   "source": [
    "print(\"rmse :\")\n",
    "abs(test - pred)**0.5"
   ]
  },
  {
   "cell_type": "code",
   "execution_count": null,
   "id": "7fbdee59-a06e-4d12-8f0f-5016dd753e2d",
   "metadata": {},
   "outputs": [],
   "source": []
  }
 ],
 "metadata": {
  "kernelspec": {
   "display_name": "Python 3 (ipykernel)",
   "language": "python",
   "name": "python3"
  },
  "language_info": {
   "codemirror_mode": {
    "name": "ipython",
    "version": 3
   },
   "file_extension": ".py",
   "mimetype": "text/x-python",
   "name": "python",
   "nbconvert_exporter": "python",
   "pygments_lexer": "ipython3",
   "version": "3.13.7"
  }
 },
 "nbformat": 4,
 "nbformat_minor": 5
}
