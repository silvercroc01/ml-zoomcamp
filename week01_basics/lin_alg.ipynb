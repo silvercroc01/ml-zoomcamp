{
 "cells": [
  {
   "cell_type": "code",
   "execution_count": 1,
   "id": "0c4c85b0-7e6a-4886-a89b-8622c44ab917",
   "metadata": {},
   "outputs": [],
   "source": [
    "import numpy as np"
   ]
  },
  {
   "cell_type": "code",
   "execution_count": 4,
   "id": "b51c1401-8a06-4c26-b20d-7207e119e4ee",
   "metadata": {},
   "outputs": [],
   "source": [
    "u = np.array([2,1,3,5])\n",
    "v = np.array([4,0,1,3])"
   ]
  },
  {
   "cell_type": "code",
   "execution_count": 9,
   "id": "efa3bb30-38fc-4e35-927e-93712d63df0e",
   "metadata": {},
   "outputs": [
    {
     "data": {
      "text/plain": [
       "((4,), (4,))"
      ]
     },
     "execution_count": 9,
     "metadata": {},
     "output_type": "execute_result"
    }
   ],
   "source": [
    "u.shape, v.shape\n"
   ]
  },
  {
   "cell_type": "code",
   "execution_count": 13,
   "id": "1b2e0f22-c056-42f3-834e-40b274dc867f",
   "metadata": {},
   "outputs": [],
   "source": [
    "def vec_vec_mult(u, v):\n",
    "    assert u.shape== v.shape\n",
    "\n",
    "    n = u.shape[0]\n",
    "    res = 0.0\n",
    "    for i in range(n):\n",
    "        res += u[i] * v[i]\n",
    "    return res  \n",
    "    "
   ]
  },
  {
   "cell_type": "code",
   "execution_count": 17,
   "id": "1a95223f-3b7c-4277-9c8d-960b5c0530da",
   "metadata": {},
   "outputs": [
    {
     "data": {
      "text/plain": [
       "np.int64(26)"
      ]
     },
     "execution_count": 17,
     "metadata": {},
     "output_type": "execute_result"
    }
   ],
   "source": [
    "# all are same\n",
    "vec_vec_mult(u,v) \n",
    "np.dot(u, v)\n",
    "u.dot(v)"
   ]
  },
  {
   "cell_type": "code",
   "execution_count": 21,
   "id": "c5bd5445-e37b-4950-b88a-bef0ad2d9237",
   "metadata": {},
   "outputs": [],
   "source": [
    "U = np.array([\n",
    "    [2,4,1,0],\n",
    "    [3,1,0,4],\n",
    "    [1,0,2,5],\n",
    "    [5,0,1,4]])\n",
    "U.shape"
   ]
  },
  {
   "cell_type": "code",
   "execution_count": 30,
   "id": "1e09e6d1-be75-49c4-9169-3b172f3032e8",
   "metadata": {},
   "outputs": [],
   "source": [
    "def mat_vec_mult(U, v):\n",
    "    assert U.shape[1] == v.shape[0]\n",
    "    num_rows = U.shape[0]\n",
    "    R = np.zeros(num_rows)\n",
    "    \n",
    "    for i in range(num_rows):\n",
    "        R[i] = vec_vec_mult(U[i], v)\n",
    "    return R   "
   ]
  },
  {
   "cell_type": "code",
   "execution_count": 32,
   "id": "6fca4f35-fe70-46ec-ae0b-d44355cc17f0",
   "metadata": {},
   "outputs": [
    {
     "data": {
      "text/plain": [
       "array([ 9, 24, 21, 33])"
      ]
     },
     "execution_count": 32,
     "metadata": {},
     "output_type": "execute_result"
    }
   ],
   "source": [
    "mat_vec_mult(U, v)\n",
    "U.dot(v)"
   ]
  },
  {
   "cell_type": "code",
   "execution_count": 82,
   "id": "7adc65a8-a593-4619-9c40-51ca256ba8ec",
   "metadata": {},
   "outputs": [
    {
     "data": {
      "text/plain": [
       "(4, 4)"
      ]
     },
     "execution_count": 82,
     "metadata": {},
     "output_type": "execute_result"
    }
   ],
   "source": [
    "V = np.array([\n",
    "    [2,3,1,4],\n",
    "    [3,0,1,5],\n",
    "    [3,1,5,2],\n",
    "    [4,1,0,2]])\n",
    "V.shape\n",
    "# V[[0,1,2]]"
   ]
  },
  {
   "cell_type": "code",
   "execution_count": 58,
   "id": "74046676-2668-4a65-888b-9aeaf38e9021",
   "metadata": {},
   "outputs": [],
   "source": [
    "def mat_mat_mult(U,V):\n",
    "    assert U.shape[1] == v.shape[0]\n",
    "    num_rows = U.shape[0]\n",
    "    num_cols = V.shape[1]\n",
    "\n",
    "    R = np.zeros((num_rows,num_cols))\n",
    "\n",
    "    for i in range(num_cols):\n",
    "        vi = V[:,i]\n",
    "        Uvi = mat_vec_mult(U, vi)\n",
    "        R[:,i] = Uvi \n",
    "            \n",
    "    return R\n",
    "    "
   ]
  },
  {
   "cell_type": "code",
   "execution_count": 59,
   "id": "70250f05-4a6c-400b-ae25-3c84da3cf99f",
   "metadata": {},
   "outputs": [
    {
     "data": {
      "text/plain": [
       "(array([[19.,  7., 11., 30.],\n",
       "        [25., 13.,  4., 25.],\n",
       "        [28., 10., 11., 18.],\n",
       "        [29., 20., 10., 30.]]),\n",
       " array([[19,  7, 11, 30],\n",
       "        [25, 13,  4, 25],\n",
       "        [28, 10, 11, 18],\n",
       "        [29, 20, 10, 30]]))"
      ]
     },
     "execution_count": 59,
     "metadata": {},
     "output_type": "execute_result"
    }
   ],
   "source": [
    "mat_mat_mult(U,V), U.dot(V)"
   ]
  },
  {
   "cell_type": "code",
   "execution_count": 61,
   "id": "40940121-1437-4433-871d-7e10bc040872",
   "metadata": {},
   "outputs": [
    {
     "data": {
      "text/plain": [
       "array([[1., 0., 0.],\n",
       "       [0., 1., 0.],\n",
       "       [0., 0., 1.]])"
      ]
     },
     "execution_count": 61,
     "metadata": {},
     "output_type": "execute_result"
    }
   ],
   "source": [
    "np.eye(3)"
   ]
  },
  {
   "cell_type": "code",
   "execution_count": 77,
   "id": "ed5eb014-3e79-48d5-b308-75d670742cb6",
   "metadata": {},
   "outputs": [
    {
     "data": {
      "text/plain": [
       "array([[-0.11737089, -0.04694836,  0.03286385,  0.31924883],\n",
       "       [ 0.31924883, -0.27230047, -0.00938967,  0.05164319],\n",
       "       [-0.02347418, -0.00938967,  0.20657277, -0.13615023],\n",
       "       [ 0.07511737,  0.23004695, -0.06103286, -0.16431925]])"
      ]
     },
     "execution_count": 77,
     "metadata": {},
     "output_type": "execute_result"
    }
   ],
   "source": [
    "V_inv = np.linalg.inv(V)\n",
    "V_inv"
   ]
  },
  {
   "cell_type": "code",
   "execution_count": 87,
   "id": "7fdf494d-61e5-4745-b44b-3ba1b0585b57",
   "metadata": {},
   "outputs": [
    {
     "name": "stdout",
     "output_type": "stream",
     "text": [
      "[[ 1.  0.  0.  0.]\n",
      " [-0.  1.  0.  0.]\n",
      " [ 0.  0.  1.  0.]\n",
      " [-0.  0.  0.  1.]]\n"
     ]
    }
   ],
   "source": [
    "print(np.round(V_inv.dot(V), decimals=2))"
   ]
  },
  {
   "cell_type": "code",
   "execution_count": null,
   "id": "b185a98e-0200-4479-ab44-17a0661e209c",
   "metadata": {},
   "outputs": [],
   "source": []
  }
 ],
 "metadata": {
  "kernelspec": {
   "display_name": "Python 3 (ipykernel)",
   "language": "python",
   "name": "python3"
  },
  "language_info": {
   "codemirror_mode": {
    "name": "ipython",
    "version": 3
   },
   "file_extension": ".py",
   "mimetype": "text/x-python",
   "name": "python",
   "nbconvert_exporter": "python",
   "pygments_lexer": "ipython3",
   "version": "3.13.7"
  }
 },
 "nbformat": 4,
 "nbformat_minor": 5
}
